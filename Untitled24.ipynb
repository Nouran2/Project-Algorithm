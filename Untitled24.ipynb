{
 "cells": [
  {
   "cell_type": "code",
   "execution_count": 9,
   "id": "02080d06-a29f-4f60-8866-3937bf05fcdb",
   "metadata": {},
   "outputs": [
    {
     "name": "stdout",
     "output_type": "stream",
     "text": [
      "Sorted Array: [1, 2, 2, 3, 3, 4, 8]\n"
     ]
    }
   ],
   "source": [
    "def counting_sort(A, k):\n",
    "    #  Initialize\n",
    "    C = [0] * (k + 1)  # Create the counting array with size k+1\n",
    "    B = [0] * len(A)   # Output array of the same size as the input\n",
    "\n",
    "    #  Count occurrences\n",
    "    for j in range(len(A)):\n",
    "        C[A[j]] += 1\n",
    "\n",
    "    #  Compute running sum\n",
    "    for i in range(1, k + 1):\n",
    "        C[i] += C[i - 1]\n",
    "\n",
    "    #  Re-arrange elements in sorted order\n",
    "    for j in range(len(A) - 1, -1, -1):\n",
    "        B[C[A[j]] - 1] = A[j]\n",
    "        C[A[j]] -= 1\n",
    "\n",
    "    return B\n",
    "\n",
    "# Example\n",
    "A = [4, 2, 2, 8, 3, 3, 1]\n",
    "k = max(A)  # Maximum value in the array\n",
    "sorted_array = counting_sort(A, k)\n",
    "print(\"Sorted Array:\", sorted_array)\n"
   ]
  },
  {
   "cell_type": "code",
   "execution_count": 11,
   "id": "dce1dee4-58cc-4a74-8ee3-28d22ef1b6a7",
   "metadata": {},
   "outputs": [
    {
     "name": "stdout",
     "output_type": "stream",
     "text": [
      "Edge: (0, 1), Weight: 2\n",
      "Edge: (1, 2), Weight: 3\n",
      "Edge: (0, 3), Weight: 6\n",
      "Edge: (1, 4), Weight: 5\n"
     ]
    }
   ],
   "source": [
    "import math\n",
    "\n",
    "def prim_algorithm(graph):\n",
    "    # graph: adjacency matrix representation of the graph\n",
    "    # Initialize variables\n",
    "    V = len(graph)  # Number of vertices\n",
    "    key = [math.inf] * V  # To store the minimum weight to each vertex\n",
    "    parent = [None] * V  # To store the parent of each vertex in MST\n",
    "    mstSet = [False] * V  # To track vertices included in MST\n",
    "\n",
    "    # Start from the first vertex\n",
    "    key[0] = 0  # Weight to start vertex is 0\n",
    "    parent[0] = -1  # Start vertex has no parent\n",
    "\n",
    "    for _ in range(V - 1):\n",
    "        # Step 1: Extract the vertex u with the minimum key value\n",
    "        min_key = math.inf\n",
    "        u = -1\n",
    "        for v in range(V):\n",
    "            if not mstSet[v] and key[v] < min_key:\n",
    "                min_key = key[v]\n",
    "                u = v\n",
    "\n",
    "        # Step 2: Add the selected vertex u to the MST\n",
    "        mstSet[u] = True\n",
    "\n",
    "        # Step 3: Update key and parent for adjacent vertices of u\n",
    "        for v in range(V):\n",
    "            if graph[u][v] != 0 and not mstSet[v] and graph[u][v] < key[v]:\n",
    "                key[v] = graph[u][v]\n",
    "                parent[v] = u\n",
    "\n",
    "    # Output the MST edges and their weights\n",
    "    for i in range(1, V):\n",
    "        print(f\"Edge: ({parent[i]}, {i}), Weight: {graph[i][parent[i]]}\")\n",
    "\n",
    "\n",
    "if __name__ == \"__main__\":\n",
    "    graph = [\n",
    "        [0, 2, 0, 6, 0],\n",
    "        [2, 0, 3, 8, 5],\n",
    "        [0, 3, 0, 0, 7],\n",
    "        [6, 8, 0, 0, 9],\n",
    "        [0, 5, 7, 9, 0]\n",
    "    ]\n",
    "\n",
    "    prim_algorithm(graph)\n"
   ]
  },
  {
   "cell_type": "code",
   "execution_count": null,
   "id": "2d91604b-0ebc-4d65-bff9-366bdbecc775",
   "metadata": {},
   "outputs": [],
   "source": []
  }
 ],
 "metadata": {
  "kernelspec": {
   "display_name": "Python 3 (ipykernel)",
   "language": "python",
   "name": "python3"
  },
  "language_info": {
   "codemirror_mode": {
    "name": "ipython",
    "version": 3
   },
   "file_extension": ".py",
   "mimetype": "text/x-python",
   "name": "python",
   "nbconvert_exporter": "python",
   "pygments_lexer": "ipython3",
   "version": "3.12.7"
  }
 },
 "nbformat": 4,
 "nbformat_minor": 5
}
